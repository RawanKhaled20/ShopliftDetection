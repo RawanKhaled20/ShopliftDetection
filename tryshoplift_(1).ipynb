{
  "metadata": {
    "kernelspec": {
      "display_name": "Python 3",
      "name": "python3"
    },
    "language_info": {
      "name": "python",
      "version": "3.10.13",
      "mimetype": "text/x-python",
      "codemirror_mode": {
        "name": "ipython",
        "version": 3
      },
      "pygments_lexer": "ipython3",
      "nbconvert_exporter": "python",
      "file_extension": ".py"
    },
    "kaggle": {
      "accelerator": "nvidiaTeslaT4",
      "dataSources": [
        {
          "sourceId": 7723023,
          "sourceType": "datasetVersion",
          "datasetId": 4511562
        },
        {
          "sourceId": 7723202,
          "sourceType": "datasetVersion",
          "datasetId": 4511683
        },
        {
          "sourceId": 7729079,
          "sourceType": "datasetVersion",
          "datasetId": 4516100
        },
        {
          "sourceId": 7729268,
          "sourceType": "datasetVersion",
          "datasetId": 4516245
        },
        {
          "sourceId": 7738014,
          "sourceType": "datasetVersion",
          "datasetId": 4522506
        },
        {
          "sourceId": 7738018,
          "sourceType": "datasetVersion",
          "datasetId": 4522509
        }
      ],
      "dockerImageVersionId": 30664,
      "isInternetEnabled": true,
      "language": "python",
      "sourceType": "notebook",
      "isGpuEnabled": true
    },
    "colab": {
      "provenance": [],
      "gpuType": "T4"
    },
    "accelerator": "GPU"
  },
  "nbformat_minor": 0,
  "nbformat": 4,
  "cells": [
    {
      "cell_type": "code",
      "source": [
        "import cv2 # for capturing videos\n",
        "\n",
        "import math # for mathematical operations\n",
        "\n",
        "import matplotlib.pyplot as plt # for plotting the images\n",
        "\n",
        "import pandas as pd\n",
        "\n",
        "from keras.preprocessing import image # for preprocessing the images\n",
        "\n",
        "import numpy as np # for mathematical operations\n",
        "\n",
        "from skimage.transform import resize # for resizing images\n",
        "\n",
        "from sklearn.model_selection import train_test_split\n",
        "\n",
        "from glob import glob\n",
        "\n",
        "from tqdm import tqdm"
      ],
      "metadata": {
        "_uuid": "8f2839f25d086af736a60e9eeb907d3b93b6e0e5",
        "_cell_guid": "b1076dfc-b9ad-4769-8c92-a6c4dae69d19",
        "execution": {
          "iopub.status.busy": "2024-03-01T14:06:22.195366Z",
          "iopub.execute_input": "2024-03-01T14:06:22.195700Z",
          "iopub.status.idle": "2024-03-01T14:06:38.287295Z",
          "shell.execute_reply.started": "2024-03-01T14:06:22.195672Z",
          "shell.execute_reply": "2024-03-01T14:06:38.286476Z"
        },
        "trusted": true,
        "id": "ZWCAShFm7zeP"
      },
      "execution_count": 2,
      "outputs": []
    },
    {
      "cell_type": "code",
      "source": [
        "import os\n",
        "\n",
        "# Define the directory where the frame images are saved\n",
        "frame_images_directory = '/content'\n",
        "\n",
        "# Function to delete all files in a directory\n",
        "def delete_files_in_directory(directory):\n",
        "    for filename in os.listdir(directory):\n",
        "        file_path = os.path.join(directory, filename)\n",
        "        try:\n",
        "            if os.path.isfile(file_path):\n",
        "                os.unlink(file_path)  # Delete the file\n",
        "        except Exception as e:\n",
        "            print(f\"Failed to delete {file_path}: {e}\")\n",
        "\n",
        "# Delete all files in the frame images directory\n",
        "delete_files_in_directory(frame_images_directory)"
      ],
      "metadata": {
        "id": "n82AJjAS9-6S"
      },
      "execution_count": 2,
      "outputs": []
    },
    {
      "cell_type": "code",
      "source": [
        "import shutil\n",
        "\n",
        "def clear_folder(folder_path):\n",
        "    for filename in os.listdir(folder_path):\n",
        "        file_path = os.path.join(folder_path, filename)\n",
        "        try:\n",
        "            if os.path.isfile(file_path):\n",
        "                os.unlink(file_path)\n",
        "            elif os.path.isdir(file_path):\n",
        "                shutil.rmtree(file_path)\n",
        "        except Exception as e:\n",
        "            print(f\"Failed to delete {file_path}. Reason: {e}\")\n",
        "\n",
        "# Specify the folder path to be cleared\n",
        "folder_to_clear = '/content/dcsass dataset'\n",
        "\n",
        "# Call the function to clear the folder\n",
        "clear_folder(folder_to_clear)"
      ],
      "metadata": {
        "id": "xg7a3qp73F3p"
      },
      "execution_count": 7,
      "outputs": []
    },
    {
      "cell_type": "code",
      "source": [
        "!pip install -q kaggle"
      ],
      "metadata": {
        "id": "37e-RV6u709r"
      },
      "execution_count": null,
      "outputs": []
    },
    {
      "cell_type": "code",
      "source": [
        "from google.colab import files\n",
        "files.upload()"
      ],
      "metadata": {
        "id": "cQ4NkEri73AD"
      },
      "execution_count": null,
      "outputs": []
    },
    {
      "cell_type": "code",
      "source": [
        "!mkdir -p ~/.kaggle"
      ],
      "metadata": {
        "id": "1-EB7UHS74kj"
      },
      "execution_count": null,
      "outputs": []
    },
    {
      "cell_type": "code",
      "source": [
        "!cp kaggle.json ~/.kaggle/"
      ],
      "metadata": {
        "id": "C46uRR4S76S8"
      },
      "execution_count": null,
      "outputs": []
    },
    {
      "cell_type": "code",
      "source": [
        "!kaggle datasets download -d rawankhaled20/shoplifting-data"
      ],
      "metadata": {
        "colab": {
          "base_uri": "https://localhost:8080/"
        },
        "id": "CfQHK68m78WI",
        "outputId": "a5c2704e-024c-4c1d-ec51-3f9b538e04e9"
      },
      "execution_count": null,
      "outputs": [
        {
          "output_type": "stream",
          "name": "stdout",
          "text": [
            "Warning: Your Kaggle API key is readable by other users on this system! To fix this, you can run 'chmod 600 /root/.kaggle/kaggle.json'\n",
            "Downloading shoplifting-data.zip to /content\n",
            " 94% 329M/352M [00:03<00:00, 87.7MB/s]\n",
            "100% 352M/352M [00:03<00:00, 112MB/s] \n"
          ]
        }
      ]
    },
    {
      "cell_type": "code",
      "source": [
        "!kaggle datasets download -d rawankhaled20/notshoplifting"
      ],
      "metadata": {
        "colab": {
          "base_uri": "https://localhost:8080/"
        },
        "id": "3X9pt9br8tuo",
        "outputId": "3194d79a-2ac7-4096-b267-de37080da7e1"
      },
      "execution_count": null,
      "outputs": [
        {
          "output_type": "stream",
          "name": "stdout",
          "text": [
            "Warning: Your Kaggle API key is readable by other users on this system! To fix this, you can run 'chmod 600 /root/.kaggle/kaggle.json'\n",
            "Downloading notshoplifting.zip to /content\n",
            " 94% 341M/362M [00:03<00:00, 79.3MB/s]\n",
            "100% 362M/362M [00:03<00:00, 112MB/s] \n"
          ]
        }
      ]
    },
    {
      "cell_type": "code",
      "source": [
        "!kaggle datasets download -d mateohervas/dcsass-dataset"
      ],
      "metadata": {
        "id": "5bx90rbPpH06",
        "colab": {
          "base_uri": "https://localhost:8080/"
        },
        "outputId": "faa40544-8e30-48ce-f8b4-54f6eb4b25e3"
      },
      "execution_count": null,
      "outputs": [
        {
          "output_type": "stream",
          "name": "stdout",
          "text": [
            "Warning: Your Kaggle API key is readable by other users on this system! To fix this, you can run 'chmod 600 /root/.kaggle/kaggle.json'\n",
            "Downloading dcsass-dataset.zip to /content\n",
            " 99% 1.34G/1.35G [00:13<00:00, 128MB/s]\n",
            "100% 1.35G/1.35G [00:14<00:00, 104MB/s]\n"
          ]
        }
      ]
    },
    {
      "cell_type": "code",
      "source": [
        "!unzip dcsass-dataset.zip"
      ],
      "metadata": {
        "id": "GbVz6ICEpJs8"
      },
      "execution_count": null,
      "outputs": []
    },
    {
      "cell_type": "code",
      "source": [
        "import os\n",
        "# Define the name of the folder you want to create\n",
        "folder_name = 'Shoplifting'\n",
        "\n",
        "# Define the path where you want to create the folder\n",
        "folder_path = '/content/' + folder_name\n",
        "\n",
        "# Create the folder if it doesn't exist\n",
        "if not os.path.exists(folder_path):\n",
        "    os.makedirs(folder_path)\n",
        "    print(f\"Folder '{folder_name}' created successfully at '{folder_path}'\")\n",
        "else:\n",
        "    print(f\"Folder '{folder_name}' already exists at '{folder_path}'\")"
      ],
      "metadata": {
        "colab": {
          "base_uri": "https://localhost:8080/"
        },
        "id": "6aVyK4Rz8MrB",
        "outputId": "6d2d56ab-cfe6-40b2-cf43-c33ca93c3de4"
      },
      "execution_count": null,
      "outputs": [
        {
          "output_type": "stream",
          "name": "stdout",
          "text": [
            "Folder 'Shoplifting' created successfully at '/content/Shoplifting'\n"
          ]
        }
      ]
    },
    {
      "cell_type": "code",
      "source": [
        "import zipfile\n",
        "import shutil\n",
        "\n",
        "# Define the path to the zipped file\n",
        "zip_file_path = '/content/notshoplifting.zip'\n",
        "\n",
        "# Define the path to the destination folder\n",
        "destination_folder_path = '/content/NotShoplifting1'\n",
        "\n",
        "# Create the destination folder if it doesn't exist\n",
        "os.makedirs(destination_folder_path, exist_ok=True)\n",
        "\n",
        "# Extract the contents of the zipped file\n",
        "with zipfile.ZipFile(zip_file_path, 'r') as zip_ref:\n",
        "    zip_ref.extractall(destination_folder_path)\n",
        "\n",
        "# List the extracted files\n",
        "extracted_files = zip_ref.namelist()\n",
        "\n",
        "# Move the video files to the destination folder\n",
        "for file_name in extracted_files:\n",
        "    if file_name.endswith('.mp4'):  # Check if the file is a video file\n",
        "        source_file_path = os.path.join(destination_folder_path, file_name)\n",
        "        destination_file_path = os.path.join(destination_folder_path, file_name.split('/')[-1])  # Extract the file name\n",
        "        os.rename(source_file_path, destination_file_path)\n"
      ],
      "metadata": {
        "id": "nt_rJBx67-Ag"
      },
      "execution_count": null,
      "outputs": []
    },
    {
      "cell_type": "code",
      "source": [
        "import os\n",
        "import pandas as pd\n",
        "\n",
        "# Define the paths to the folders\n",
        "shoplift_folder = \"/content/Shoplifting1\"\n",
        "noshoplift_folder = \"/content/NotShoplifting1\"\n",
        "\n",
        "# Get the list of video files in each folder\n",
        "shoplift_videos = [os.path.join(shoplift_folder, filename) for filename in os.listdir(shoplift_folder)]\n",
        "noshoplift_videos = [os.path.join(noshoplift_folder, filename) for filename in os.listdir(noshoplift_folder)]\n",
        "\n",
        "# Combine the lists of video files\n",
        "all_videos = shoplift_videos + noshoplift_videos\n",
        "\n",
        "# Create a DataFrame\n",
        "train = pd.DataFrame({'video_name': all_videos})\n",
        "\n",
        "print(train.head())"
      ],
      "metadata": {
        "execution": {
          "iopub.status.busy": "2024-03-01T14:06:38.288749Z",
          "iopub.execute_input": "2024-03-01T14:06:38.289278Z",
          "iopub.status.idle": "2024-03-01T14:06:38.400245Z",
          "shell.execute_reply.started": "2024-03-01T14:06:38.289253Z",
          "shell.execute_reply": "2024-03-01T14:06:38.399350Z"
        },
        "trusted": true,
        "colab": {
          "base_uri": "https://localhost:8080/"
        },
        "id": "EL83r36c7zeQ",
        "outputId": "40596fdd-31d4-49ac-8aff-acc1c2173af1"
      },
      "execution_count": 3,
      "outputs": [
        {
          "output_type": "stream",
          "name": "stdout",
          "text": [
            "                                 video_name\n",
            "0  /content/Shoplifting1/shop_lifter_90.mp4\n",
            "1   /content/Shoplifting1/shop_lifter_0.mp4\n",
            "2  /content/Shoplifting1/shop_lifter_78.mp4\n",
            "3  /content/Shoplifting1/shop_lifter_69.mp4\n",
            "4  /content/Shoplifting1/shop_lifter_81.mp4\n"
          ]
        }
      ]
    },
    {
      "cell_type": "code",
      "source": [
        "train_video_tag = []\n",
        "\n",
        "for i in range(train.shape[0]):\n",
        "    train_video_tag.append(train['video_name'][i].split('/')[0])\n",
        "\n",
        "train['tag'] = train_video_tag"
      ],
      "metadata": {
        "execution": {
          "iopub.status.busy": "2024-03-01T14:06:38.401396Z",
          "iopub.execute_input": "2024-03-01T14:06:38.401758Z",
          "iopub.status.idle": "2024-03-01T14:06:38.412575Z",
          "shell.execute_reply.started": "2024-03-01T14:06:38.401722Z",
          "shell.execute_reply": "2024-03-01T14:06:38.411692Z"
        },
        "trusted": true,
        "id": "FfilK1ib7zeR"
      },
      "execution_count": 4,
      "outputs": []
    },
    {
      "cell_type": "code",
      "source": [
        "def store_frames_from_folder(folder_path, destination_folder):\n",
        "    for filename in os.listdir(folder_path):\n",
        "        video_file = os.path.join(folder_path, filename)\n",
        "        cap = cv2.VideoCapture(video_file)\n",
        "        frame_rate = cap.get(cv2.CAP_PROP_FPS)\n",
        "        count = 0\n",
        "        while cap.isOpened():\n",
        "            ret, frame = cap.read()\n",
        "            if not ret:\n",
        "                break\n",
        "            if count % math.floor(frame_rate) == 0:\n",
        "                frame_filename = f\"{filename.split('.')[0]}_frame{count}.jpg\"\n",
        "                destination_path = os.path.join(destination_folder, frame_filename)\n",
        "                cv2.imwrite(destination_path, frame)\n",
        "            count += 1\n",
        "        cap.release()\n",
        "\n",
        "# Define the path to the train folder where frames will be stored\n",
        "train_folder = '/content/Train1'\n",
        "\n",
        "# Create the train folder if it doesn't exist\n",
        "os.makedirs(train_folder, exist_ok=True)\n",
        "\n",
        "# Store frames from both shoplift and not shoplift folders into train folder\n",
        "store_frames_from_folder(shoplift_folder, train_folder)\n",
        "store_frames_from_folder(noshoplift_folder, train_folder)"
      ],
      "metadata": {
        "execution": {
          "iopub.status.busy": "2024-03-01T14:06:38.414584Z",
          "iopub.execute_input": "2024-03-01T14:06:38.414844Z",
          "iopub.status.idle": "2024-03-01T14:08:08.957762Z",
          "shell.execute_reply.started": "2024-03-01T14:06:38.414822Z",
          "shell.execute_reply": "2024-03-01T14:08:08.956665Z"
        },
        "trusted": true,
        "id": "HvT_uXSq7zeR"
      },
      "execution_count": 26,
      "outputs": []
    },
    {
      "cell_type": "code",
      "source": [
        "# Getting the names of all the images\n",
        "images = glob(\"/content/Train1/*.jpg\")  # Search for all .jpg files in the current directory\n",
        "\n",
        "train_image = []\n",
        "train_class = []\n",
        "\n",
        "for i in tqdm(range(len(images))):\n",
        "    # Creating the image name\n",
        "    train_image.append(images[i])\n",
        "\n",
        "    # Creating the class of image\n",
        "    class_label_parts = images[i].split('_')\n",
        "    class_label = class_label_parts[2]\n",
        "    if class_label == 'n':\n",
        "            train_class.append(0)\n",
        "    else:\n",
        "            train_class.append(1)\n",
        "\n",
        "# Storing the images and their class in a DataFrame\n",
        "train_data = pd.DataFrame()\n",
        "train_data['image'] = train_image\n",
        "train_data['class'] = train_class\n",
        "\n",
        "\n",
        "# Converting the DataFrame into a CSV file\n",
        "train_data.to_csv('train_new.csv', header=True, index=False)"
      ],
      "metadata": {
        "execution": {
          "iopub.status.busy": "2024-03-01T14:08:08.959748Z",
          "iopub.execute_input": "2024-03-01T14:08:08.960082Z",
          "iopub.status.idle": "2024-03-01T14:08:09.004226Z",
          "shell.execute_reply.started": "2024-03-01T14:08:08.960047Z",
          "shell.execute_reply": "2024-03-01T14:08:09.003309Z"
        },
        "trusted": true,
        "colab": {
          "base_uri": "https://localhost:8080/"
        },
        "id": "RuKRMecF7zeR",
        "outputId": "9944ab90-3671-4496-9678-2f5e70bfe9c2"
      },
      "execution_count": 11,
      "outputs": [
        {
          "output_type": "stream",
          "name": "stderr",
          "text": [
            "100%|██████████| 3766/3766 [00:00<00:00, 689319.17it/s]\n"
          ]
        }
      ]
    },
    {
      "cell_type": "code",
      "source": [
        "import keras\n",
        "\n",
        "from keras.models import Sequential\n",
        "\n",
        "from keras.applications.vgg16 import VGG16\n",
        "\n",
        "from keras.layers import Dense, InputLayer, Dropout, Flatten\n",
        "\n",
        "from keras.layers import Conv2D, MaxPooling2D, GlobalMaxPooling2D\n",
        "\n",
        "from keras.preprocessing import image\n",
        "\n",
        "import numpy as np\n",
        "\n",
        "import pandas as pd\n",
        "\n",
        "import matplotlib.pyplot as plt\n",
        "\n",
        "from tqdm import tqdm\n",
        "\n",
        "from sklearn.model_selection import train_test_split"
      ],
      "metadata": {
        "execution": {
          "iopub.status.busy": "2024-03-01T14:08:09.005553Z",
          "iopub.execute_input": "2024-03-01T14:08:09.005901Z",
          "iopub.status.idle": "2024-03-01T14:08:09.011844Z",
          "shell.execute_reply.started": "2024-03-01T14:08:09.005869Z",
          "shell.execute_reply": "2024-03-01T14:08:09.010967Z"
        },
        "trusted": true,
        "id": "TKXzYx_87zeR"
      },
      "execution_count": 5,
      "outputs": []
    },
    {
      "cell_type": "code",
      "source": [
        "train = pd.read_csv('train_new.csv')\n",
        "\n",
        "train.head()"
      ],
      "metadata": {
        "execution": {
          "iopub.status.busy": "2024-03-01T14:08:09.013217Z",
          "iopub.execute_input": "2024-03-01T14:08:09.013539Z",
          "iopub.status.idle": "2024-03-01T14:08:09.037448Z",
          "shell.execute_reply.started": "2024-03-01T14:08:09.013508Z",
          "shell.execute_reply": "2024-03-01T14:08:09.036621Z"
        },
        "trusted": true,
        "colab": {
          "base_uri": "https://localhost:8080/",
          "height": 206
        },
        "id": "bucvuXL07zeR",
        "outputId": "9265d198-96d5-41ea-d929-0800f0ccd34a"
      },
      "execution_count": 6,
      "outputs": [
        {
          "output_type": "execute_result",
          "data": {
            "text/plain": [
              "                                           image  class\n",
              "0   /content/Train1/shop_lifter_103_frame200.jpg      1\n",
              "1  /content/Train1/shop_lifter_n_80_frame350.jpg      0\n",
              "2    /content/Train1/shop_lifter_41_frame144.jpg      1\n",
              "3    /content/Train1/shop_lifter_63_frame144.jpg      1\n",
              "4  /content/Train1/shop_lifter_n_79_frame175.jpg      0"
            ],
            "text/html": [
              "\n",
              "  <div id=\"df-d21985f3-2b57-482c-9fa0-76a395cdcab3\" class=\"colab-df-container\">\n",
              "    <div>\n",
              "<style scoped>\n",
              "    .dataframe tbody tr th:only-of-type {\n",
              "        vertical-align: middle;\n",
              "    }\n",
              "\n",
              "    .dataframe tbody tr th {\n",
              "        vertical-align: top;\n",
              "    }\n",
              "\n",
              "    .dataframe thead th {\n",
              "        text-align: right;\n",
              "    }\n",
              "</style>\n",
              "<table border=\"1\" class=\"dataframe\">\n",
              "  <thead>\n",
              "    <tr style=\"text-align: right;\">\n",
              "      <th></th>\n",
              "      <th>image</th>\n",
              "      <th>class</th>\n",
              "    </tr>\n",
              "  </thead>\n",
              "  <tbody>\n",
              "    <tr>\n",
              "      <th>0</th>\n",
              "      <td>/content/Train1/shop_lifter_103_frame200.jpg</td>\n",
              "      <td>1</td>\n",
              "    </tr>\n",
              "    <tr>\n",
              "      <th>1</th>\n",
              "      <td>/content/Train1/shop_lifter_n_80_frame350.jpg</td>\n",
              "      <td>0</td>\n",
              "    </tr>\n",
              "    <tr>\n",
              "      <th>2</th>\n",
              "      <td>/content/Train1/shop_lifter_41_frame144.jpg</td>\n",
              "      <td>1</td>\n",
              "    </tr>\n",
              "    <tr>\n",
              "      <th>3</th>\n",
              "      <td>/content/Train1/shop_lifter_63_frame144.jpg</td>\n",
              "      <td>1</td>\n",
              "    </tr>\n",
              "    <tr>\n",
              "      <th>4</th>\n",
              "      <td>/content/Train1/shop_lifter_n_79_frame175.jpg</td>\n",
              "      <td>0</td>\n",
              "    </tr>\n",
              "  </tbody>\n",
              "</table>\n",
              "</div>\n",
              "    <div class=\"colab-df-buttons\">\n",
              "\n",
              "  <div class=\"colab-df-container\">\n",
              "    <button class=\"colab-df-convert\" onclick=\"convertToInteractive('df-d21985f3-2b57-482c-9fa0-76a395cdcab3')\"\n",
              "            title=\"Convert this dataframe to an interactive table.\"\n",
              "            style=\"display:none;\">\n",
              "\n",
              "  <svg xmlns=\"http://www.w3.org/2000/svg\" height=\"24px\" viewBox=\"0 -960 960 960\">\n",
              "    <path d=\"M120-120v-720h720v720H120Zm60-500h600v-160H180v160Zm220 220h160v-160H400v160Zm0 220h160v-160H400v160ZM180-400h160v-160H180v160Zm440 0h160v-160H620v160ZM180-180h160v-160H180v160Zm440 0h160v-160H620v160Z\"/>\n",
              "  </svg>\n",
              "    </button>\n",
              "\n",
              "  <style>\n",
              "    .colab-df-container {\n",
              "      display:flex;\n",
              "      gap: 12px;\n",
              "    }\n",
              "\n",
              "    .colab-df-convert {\n",
              "      background-color: #E8F0FE;\n",
              "      border: none;\n",
              "      border-radius: 50%;\n",
              "      cursor: pointer;\n",
              "      display: none;\n",
              "      fill: #1967D2;\n",
              "      height: 32px;\n",
              "      padding: 0 0 0 0;\n",
              "      width: 32px;\n",
              "    }\n",
              "\n",
              "    .colab-df-convert:hover {\n",
              "      background-color: #E2EBFA;\n",
              "      box-shadow: 0px 1px 2px rgba(60, 64, 67, 0.3), 0px 1px 3px 1px rgba(60, 64, 67, 0.15);\n",
              "      fill: #174EA6;\n",
              "    }\n",
              "\n",
              "    .colab-df-buttons div {\n",
              "      margin-bottom: 4px;\n",
              "    }\n",
              "\n",
              "    [theme=dark] .colab-df-convert {\n",
              "      background-color: #3B4455;\n",
              "      fill: #D2E3FC;\n",
              "    }\n",
              "\n",
              "    [theme=dark] .colab-df-convert:hover {\n",
              "      background-color: #434B5C;\n",
              "      box-shadow: 0px 1px 3px 1px rgba(0, 0, 0, 0.15);\n",
              "      filter: drop-shadow(0px 1px 2px rgba(0, 0, 0, 0.3));\n",
              "      fill: #FFFFFF;\n",
              "    }\n",
              "  </style>\n",
              "\n",
              "    <script>\n",
              "      const buttonEl =\n",
              "        document.querySelector('#df-d21985f3-2b57-482c-9fa0-76a395cdcab3 button.colab-df-convert');\n",
              "      buttonEl.style.display =\n",
              "        google.colab.kernel.accessAllowed ? 'block' : 'none';\n",
              "\n",
              "      async function convertToInteractive(key) {\n",
              "        const element = document.querySelector('#df-d21985f3-2b57-482c-9fa0-76a395cdcab3');\n",
              "        const dataTable =\n",
              "          await google.colab.kernel.invokeFunction('convertToInteractive',\n",
              "                                                    [key], {});\n",
              "        if (!dataTable) return;\n",
              "\n",
              "        const docLinkHtml = 'Like what you see? Visit the ' +\n",
              "          '<a target=\"_blank\" href=https://colab.research.google.com/notebooks/data_table.ipynb>data table notebook</a>'\n",
              "          + ' to learn more about interactive tables.';\n",
              "        element.innerHTML = '';\n",
              "        dataTable['output_type'] = 'display_data';\n",
              "        await google.colab.output.renderOutput(dataTable, element);\n",
              "        const docLink = document.createElement('div');\n",
              "        docLink.innerHTML = docLinkHtml;\n",
              "        element.appendChild(docLink);\n",
              "      }\n",
              "    </script>\n",
              "  </div>\n",
              "\n",
              "\n",
              "<div id=\"df-3f06894c-607e-4af0-aea1-9a129ab5c347\">\n",
              "  <button class=\"colab-df-quickchart\" onclick=\"quickchart('df-3f06894c-607e-4af0-aea1-9a129ab5c347')\"\n",
              "            title=\"Suggest charts\"\n",
              "            style=\"display:none;\">\n",
              "\n",
              "<svg xmlns=\"http://www.w3.org/2000/svg\" height=\"24px\"viewBox=\"0 0 24 24\"\n",
              "     width=\"24px\">\n",
              "    <g>\n",
              "        <path d=\"M19 3H5c-1.1 0-2 .9-2 2v14c0 1.1.9 2 2 2h14c1.1 0 2-.9 2-2V5c0-1.1-.9-2-2-2zM9 17H7v-7h2v7zm4 0h-2V7h2v10zm4 0h-2v-4h2v4z\"/>\n",
              "    </g>\n",
              "</svg>\n",
              "  </button>\n",
              "\n",
              "<style>\n",
              "  .colab-df-quickchart {\n",
              "      --bg-color: #E8F0FE;\n",
              "      --fill-color: #1967D2;\n",
              "      --hover-bg-color: #E2EBFA;\n",
              "      --hover-fill-color: #174EA6;\n",
              "      --disabled-fill-color: #AAA;\n",
              "      --disabled-bg-color: #DDD;\n",
              "  }\n",
              "\n",
              "  [theme=dark] .colab-df-quickchart {\n",
              "      --bg-color: #3B4455;\n",
              "      --fill-color: #D2E3FC;\n",
              "      --hover-bg-color: #434B5C;\n",
              "      --hover-fill-color: #FFFFFF;\n",
              "      --disabled-bg-color: #3B4455;\n",
              "      --disabled-fill-color: #666;\n",
              "  }\n",
              "\n",
              "  .colab-df-quickchart {\n",
              "    background-color: var(--bg-color);\n",
              "    border: none;\n",
              "    border-radius: 50%;\n",
              "    cursor: pointer;\n",
              "    display: none;\n",
              "    fill: var(--fill-color);\n",
              "    height: 32px;\n",
              "    padding: 0;\n",
              "    width: 32px;\n",
              "  }\n",
              "\n",
              "  .colab-df-quickchart:hover {\n",
              "    background-color: var(--hover-bg-color);\n",
              "    box-shadow: 0 1px 2px rgba(60, 64, 67, 0.3), 0 1px 3px 1px rgba(60, 64, 67, 0.15);\n",
              "    fill: var(--button-hover-fill-color);\n",
              "  }\n",
              "\n",
              "  .colab-df-quickchart-complete:disabled,\n",
              "  .colab-df-quickchart-complete:disabled:hover {\n",
              "    background-color: var(--disabled-bg-color);\n",
              "    fill: var(--disabled-fill-color);\n",
              "    box-shadow: none;\n",
              "  }\n",
              "\n",
              "  .colab-df-spinner {\n",
              "    border: 2px solid var(--fill-color);\n",
              "    border-color: transparent;\n",
              "    border-bottom-color: var(--fill-color);\n",
              "    animation:\n",
              "      spin 1s steps(1) infinite;\n",
              "  }\n",
              "\n",
              "  @keyframes spin {\n",
              "    0% {\n",
              "      border-color: transparent;\n",
              "      border-bottom-color: var(--fill-color);\n",
              "      border-left-color: var(--fill-color);\n",
              "    }\n",
              "    20% {\n",
              "      border-color: transparent;\n",
              "      border-left-color: var(--fill-color);\n",
              "      border-top-color: var(--fill-color);\n",
              "    }\n",
              "    30% {\n",
              "      border-color: transparent;\n",
              "      border-left-color: var(--fill-color);\n",
              "      border-top-color: var(--fill-color);\n",
              "      border-right-color: var(--fill-color);\n",
              "    }\n",
              "    40% {\n",
              "      border-color: transparent;\n",
              "      border-right-color: var(--fill-color);\n",
              "      border-top-color: var(--fill-color);\n",
              "    }\n",
              "    60% {\n",
              "      border-color: transparent;\n",
              "      border-right-color: var(--fill-color);\n",
              "    }\n",
              "    80% {\n",
              "      border-color: transparent;\n",
              "      border-right-color: var(--fill-color);\n",
              "      border-bottom-color: var(--fill-color);\n",
              "    }\n",
              "    90% {\n",
              "      border-color: transparent;\n",
              "      border-bottom-color: var(--fill-color);\n",
              "    }\n",
              "  }\n",
              "</style>\n",
              "\n",
              "  <script>\n",
              "    async function quickchart(key) {\n",
              "      const quickchartButtonEl =\n",
              "        document.querySelector('#' + key + ' button');\n",
              "      quickchartButtonEl.disabled = true;  // To prevent multiple clicks.\n",
              "      quickchartButtonEl.classList.add('colab-df-spinner');\n",
              "      try {\n",
              "        const charts = await google.colab.kernel.invokeFunction(\n",
              "            'suggestCharts', [key], {});\n",
              "      } catch (error) {\n",
              "        console.error('Error during call to suggestCharts:', error);\n",
              "      }\n",
              "      quickchartButtonEl.classList.remove('colab-df-spinner');\n",
              "      quickchartButtonEl.classList.add('colab-df-quickchart-complete');\n",
              "    }\n",
              "    (() => {\n",
              "      let quickchartButtonEl =\n",
              "        document.querySelector('#df-3f06894c-607e-4af0-aea1-9a129ab5c347 button');\n",
              "      quickchartButtonEl.style.display =\n",
              "        google.colab.kernel.accessAllowed ? 'block' : 'none';\n",
              "    })();\n",
              "  </script>\n",
              "</div>\n",
              "    </div>\n",
              "  </div>\n"
            ],
            "application/vnd.google.colaboratory.intrinsic+json": {
              "type": "dataframe",
              "variable_name": "train",
              "summary": "{\n  \"name\": \"train\",\n  \"rows\": 3766,\n  \"fields\": [\n    {\n      \"column\": \"image\",\n      \"properties\": {\n        \"dtype\": \"string\",\n        \"num_unique_values\": 3766,\n        \"samples\": [\n          \"/content/Train1/shop_lifter_n_14_frame350.jpg\",\n          \"/content/Train1/shop_lifter_38_frame144.jpg\",\n          \"/content/Train1/shop_lifter_10_frame96.jpg\"\n        ],\n        \"semantic_type\": \"\",\n        \"description\": \"\"\n      }\n    },\n    {\n      \"column\": \"class\",\n      \"properties\": {\n        \"dtype\": \"number\",\n        \"std\": 0,\n        \"min\": 0,\n        \"max\": 1,\n        \"num_unique_values\": 2,\n        \"samples\": [\n          0,\n          1\n        ],\n        \"semantic_type\": \"\",\n        \"description\": \"\"\n      }\n    }\n  ]\n}"
            }
          },
          "metadata": {},
          "execution_count": 6
        }
      ]
    },
    {
      "cell_type": "code",
      "source": [
        "# creating an empty list\n",
        "\n",
        "train_image = []\n",
        "\n",
        "# for loop to read and store frames\n",
        "\n",
        "for i in tqdm(range(train.shape[0])):\n",
        "\n",
        "      # loading the image and keeping the target size as (224,224,3)\n",
        "\n",
        "    img = image.load_img(train['image'][i], target_size=(224,224,3))\n",
        "\n",
        "     # converting it to array\n",
        "\n",
        "    img = image.img_to_array(img)\n",
        "\n",
        "     # normalizing the pixel value\n",
        "\n",
        "    img = img/255\n",
        "\n",
        "    # appending the image to the train_image list\n",
        "\n",
        "    train_image.append(img)\n",
        "\n",
        "# converting the list to numpy array\n",
        "\n",
        "X = np.array(train_image)\n",
        "\n",
        "# shape of the array\n",
        "\n",
        "X.shape"
      ],
      "metadata": {
        "execution": {
          "iopub.status.busy": "2024-03-01T14:08:09.038522Z",
          "iopub.execute_input": "2024-03-01T14:08:09.038783Z",
          "iopub.status.idle": "2024-03-01T14:08:23.650129Z",
          "shell.execute_reply.started": "2024-03-01T14:08:09.038761Z",
          "shell.execute_reply": "2024-03-01T14:08:23.649150Z"
        },
        "trusted": true,
        "colab": {
          "base_uri": "https://localhost:8080/"
        },
        "id": "p5ar2Jbc7zeR",
        "outputId": "e7cc550b-51df-4de3-a0df-0d64bc1775f6"
      },
      "execution_count": 7,
      "outputs": [
        {
          "output_type": "stream",
          "name": "stderr",
          "text": [
            "100%|██████████| 3766/3766 [00:20<00:00, 186.93it/s]\n"
          ]
        },
        {
          "output_type": "execute_result",
          "data": {
            "text/plain": [
              "(3766, 224, 224, 3)"
            ]
          },
          "metadata": {},
          "execution_count": 7
        }
      ]
    },
    {
      "cell_type": "code",
      "source": [
        "# separating the target\n",
        "\n",
        "y = train['class']\n",
        "\n",
        "# creating the training and validation set\n",
        "\n",
        "X_train, X_test, y_train, y_test = train_test_split(X, y, random_state=42, test_size=0.2, stratify = y)"
      ],
      "metadata": {
        "execution": {
          "iopub.status.busy": "2024-03-01T14:54:04.798552Z",
          "iopub.execute_input": "2024-03-01T14:54:04.799363Z",
          "iopub.status.idle": "2024-03-01T14:54:05.440867Z",
          "shell.execute_reply.started": "2024-03-01T14:54:04.799330Z",
          "shell.execute_reply": "2024-03-01T14:54:05.439822Z"
        },
        "trusted": true,
        "id": "WfUoetTR7zeS"
      },
      "execution_count": 8,
      "outputs": []
    },
    {
      "cell_type": "code",
      "source": [
        "base_model = VGG16(weights='imagenet', include_top=False)"
      ],
      "metadata": {
        "execution": {
          "iopub.status.busy": "2024-03-01T14:53:58.257893Z",
          "iopub.execute_input": "2024-03-01T14:53:58.258292Z",
          "iopub.status.idle": "2024-03-01T14:53:58.516265Z",
          "shell.execute_reply.started": "2024-03-01T14:53:58.258257Z",
          "shell.execute_reply": "2024-03-01T14:53:58.515479Z"
        },
        "trusted": true,
        "id": "T4PxJl8L7zeS"
      },
      "execution_count": 9,
      "outputs": []
    },
    {
      "cell_type": "code",
      "source": [
        "from keras.preprocessing.image import ImageDataGenerator\n",
        "\n",
        "# Create an instance of ImageDataGenerator for data augmentation\n",
        "datagen = ImageDataGenerator(\n",
        "    zoom_range=0.1,  # Randomly zoom images by 10%\n",
        "    fill_mode='nearest'  # Fill any missing pixels after rotation or shifting\n",
        ")\n",
        "\n",
        "# Fit the ImageDataGenerator to X_train\n",
        "datagen.fit(X_train)\n",
        "\n",
        "# Define the number of augmented samples per original sample\n",
        "num_augmented_samples = 1\n",
        "\n",
        "# Generate augmented samples\n",
        "augmented_data_generator = datagen.flow(X_train, batch_size=num_augmented_samples)\n",
        "\n",
        "# Generate augmented samples and append them to X_train_augmented\n",
        "X_train_augmented = []\n",
        "for _ in tqdm(range(X_train.shape[0])):\n",
        "    batch = augmented_data_generator.next()\n",
        "    X_train_augmented.extend(batch)\n",
        "\n",
        "# Convert the list of augmented samples to a numpy array\n",
        "X_train_augmented = np.array(X_train_augmented)"
      ],
      "metadata": {
        "colab": {
          "base_uri": "https://localhost:8080/"
        },
        "id": "mP4KMyqj1nUg",
        "outputId": "1fa141b3-e793-420d-d238-39384e87564b"
      },
      "execution_count": 10,
      "outputs": [
        {
          "output_type": "stream",
          "name": "stderr",
          "text": [
            "100%|██████████| 3012/3012 [00:32<00:00, 91.73it/s] \n"
          ]
        }
      ]
    },
    {
      "cell_type": "code",
      "source": [
        "from keras.preprocessing.image import ImageDataGenerator\n",
        "\n",
        "# Create an instance of ImageDataGenerator for data augmentation\n",
        "datagen = ImageDataGenerator(\n",
        "    zoom_range=0.1,  # Randomly zoom images by 10%\n",
        "    fill_mode='nearest'  # Fill any missing pixels after rotation or shifting\n",
        ")\n",
        "\n",
        "# Fit the ImageDataGenerator to X_train\n",
        "datagen.fit(X_test)\n",
        "\n",
        "# Define the number of augmented samples per original sample\n",
        "num_augmented_samples = 1\n",
        "\n",
        "# Generate augmented samples\n",
        "augmented_data_generator = datagen.flow(X_test, batch_size=num_augmented_samples)\n",
        "\n",
        "# Generate augmented samples and append them to X_train_augmented\n",
        "X_test_augmented = []\n",
        "for _ in tqdm(range(X_test.shape[0])):\n",
        "    batch = augmented_data_generator.next()\n",
        "    X_test_augmented.extend(batch)\n",
        "\n",
        "# Convert the list of augmented samples to a numpy array\n",
        "X_test_augmented = np.array(X_test_augmented)"
      ],
      "metadata": {
        "colab": {
          "base_uri": "https://localhost:8080/"
        },
        "id": "A9nvDs4p2AoH",
        "outputId": "f3c5438e-c5a2-444d-b8f0-5969d97c2d0f"
      },
      "execution_count": 11,
      "outputs": [
        {
          "output_type": "stream",
          "name": "stderr",
          "text": [
            "100%|██████████| 754/754 [00:12<00:00, 62.06it/s]\n"
          ]
        }
      ]
    },
    {
      "cell_type": "code",
      "source": [
        "# Concatenate augmented samples with original X_train\n",
        "X_train_augmented = np.concatenate((X_train, X_train_augmented), axis=0)"
      ],
      "metadata": {
        "id": "NfvR5-en18Wq"
      },
      "execution_count": null,
      "outputs": []
    },
    {
      "cell_type": "code",
      "source": [
        "# Concatenate augmented samples with original X_test\n",
        "X_test_augmented = np.concatenate((X_test, X_test_augmented), axis=0)"
      ],
      "metadata": {
        "id": "ZV2mkd3W2O7x"
      },
      "execution_count": null,
      "outputs": []
    },
    {
      "cell_type": "code",
      "source": [
        "# extracting features for training frames\n",
        "\n",
        "X_train = base_model.predict(X_train)\n",
        "print(X_train.shape)\n",
        "# extracting features for validation frames\n",
        "\n",
        "X_test = base_model.predict(X_test)\n",
        "print(X_test.shape)"
      ],
      "metadata": {
        "execution": {
          "iopub.status.busy": "2024-03-01T14:54:54.381881Z",
          "iopub.execute_input": "2024-03-01T14:54:54.382256Z",
          "iopub.status.idle": "2024-03-01T14:56:01.424398Z",
          "shell.execute_reply.started": "2024-03-01T14:54:54.382224Z",
          "shell.execute_reply": "2024-03-01T14:56:01.423329Z"
        },
        "trusted": true,
        "colab": {
          "base_uri": "https://localhost:8080/"
        },
        "id": "oQfTjqpB7zeS",
        "outputId": "28edfe42-2985-4795-cd51-c4ba31e1c5c5"
      },
      "execution_count": null,
      "outputs": [
        {
          "output_type": "stream",
          "name": "stdout",
          "text": [
            "94/94 [==============================] - 25s 179ms/step\n",
            "(3004, 7, 7, 512)\n",
            "24/24 [==============================] - 6s 279ms/step\n",
            "(751, 7, 7, 512)\n"
          ]
        }
      ]
    },
    {
      "cell_type": "code",
      "source": [
        "# reshaping the training as well as validation frames in single dimension\n",
        "\n",
        "X_train = X_train.reshape(3004, 7*7*512)\n",
        "X_test = X_test.reshape(751, 7*7*512)"
      ],
      "metadata": {
        "execution": {
          "iopub.status.busy": "2024-03-01T14:56:06.131005Z",
          "iopub.execute_input": "2024-03-01T14:56:06.131364Z",
          "iopub.status.idle": "2024-03-01T14:56:06.136313Z",
          "shell.execute_reply.started": "2024-03-01T14:56:06.131336Z",
          "shell.execute_reply": "2024-03-01T14:56:06.135088Z"
        },
        "trusted": true,
        "id": "TRRkI1Do7zeS"
      },
      "execution_count": null,
      "outputs": []
    },
    {
      "cell_type": "code",
      "source": [
        "X_train = X_train/255\n",
        "X_test = X_test/255"
      ],
      "metadata": {
        "execution": {
          "iopub.status.busy": "2024-03-01T14:56:08.925771Z",
          "iopub.execute_input": "2024-03-01T14:56:08.926873Z",
          "iopub.status.idle": "2024-03-01T14:56:09.043154Z",
          "shell.execute_reply.started": "2024-03-01T14:56:08.926835Z",
          "shell.execute_reply": "2024-03-01T14:56:09.042318Z"
        },
        "trusted": true,
        "id": "07uqHnY37zeS"
      },
      "execution_count": null,
      "outputs": []
    },
    {
      "cell_type": "code",
      "source": [
        "# shape of images\n",
        "\n",
        "X_train.shape"
      ],
      "metadata": {
        "execution": {
          "iopub.status.busy": "2024-03-01T14:56:13.813662Z",
          "iopub.execute_input": "2024-03-01T14:56:13.814022Z",
          "iopub.status.idle": "2024-03-01T14:56:13.819947Z",
          "shell.execute_reply.started": "2024-03-01T14:56:13.813991Z",
          "shell.execute_reply": "2024-03-01T14:56:13.819002Z"
        },
        "trusted": true,
        "colab": {
          "base_uri": "https://localhost:8080/"
        },
        "id": "-M3-yo7b7zeS",
        "outputId": "b2e30a1a-24dd-4610-d0ef-bbbbd320e167"
      },
      "execution_count": null,
      "outputs": [
        {
          "output_type": "execute_result",
          "data": {
            "text/plain": [
              "(3004, 25088)"
            ]
          },
          "metadata": {},
          "execution_count": 22
        }
      ]
    },
    {
      "cell_type": "code",
      "source": [
        "from keras.models import Sequential\n",
        "from keras.layers import Conv2D, MaxPooling2D, Flatten, LSTM, Dense, Dropout, Reshape\n",
        "\n",
        "model = Sequential()\n",
        "\n",
        "# Initial Dense layer with output shape (4*4*64,)\n",
        "model.add(Dense(4*4*64, activation='elu', input_shape=(25088,))) # Adjusted output shape\n",
        "\n",
        "# Dropout for regularization\n",
        "model.add(Dropout(0.5))\n",
        "\n",
        "# Reshape for Conv2D input\n",
        "model.add(Reshape((4, 4, 64)))  # Reshape to match output shape of previous layers\n",
        "\n",
        "# Convolutional layers for spatial feature extraction\n",
        "model.add(Conv2D(128, (3, 3), activation='relu', padding='same'))\n",
        "model.add(MaxPooling2D(pool_size=(2, 2)))\n",
        "model.add(Conv2D(256, (3, 3), activation='relu', padding='same'))\n",
        "model.add(MaxPooling2D(pool_size=(2, 2)))\n",
        "model.add(Conv2D(512, (3, 3), activation='relu', padding='same'))\n",
        "\n",
        "# Flatten layer to prepare for LSTM\n",
        "model.add(Flatten()) # Adjusted to match Reshape layer input shape\n",
        "\n",
        "# Reshape for LSTM input\n",
        "model.add(Reshape((4, 128)))  # Reshape to match output shape of previous layers\n",
        "\n",
        "# LSTM layers for capturing temporal dependencies\n",
        "model.add(LSTM(128, return_sequences=True))\n",
        "model.add(LSTM(64))\n",
        "\n",
        "# Additional dense layers with dropout\n",
        "model.add(Dense(128, activation='elu'))\n",
        "model.add(Dropout(0.5))\n",
        "model.add(Dense(64, activation='elu'))\n",
        "model.add(Dropout(0.5))\n",
        "\n",
        "# Output layer\n",
        "model.add(Dense(1, activation='sigmoid'))\n",
        "\n",
        "# Compile the model\n",
        "model.compile(optimizer='adam', loss='binary_crossentropy', metrics=['accuracy'])\n",
        "\n",
        "# Print model summary\n",
        "model.summary()"
      ],
      "metadata": {
        "execution": {
          "iopub.status.busy": "2024-03-01T15:01:21.680190Z",
          "iopub.execute_input": "2024-03-01T15:01:21.681145Z",
          "iopub.status.idle": "2024-03-01T15:01:21.796828Z",
          "shell.execute_reply.started": "2024-03-01T15:01:21.681102Z",
          "shell.execute_reply": "2024-03-01T15:01:21.795964Z"
        },
        "trusted": true,
        "colab": {
          "base_uri": "https://localhost:8080/"
        },
        "id": "o81HqvAT7zeS",
        "outputId": "beae2c37-c48e-4b28-8961-41ada7156289"
      },
      "execution_count": null,
      "outputs": [
        {
          "output_type": "stream",
          "name": "stdout",
          "text": [
            "Model: \"sequential_15\"\n",
            "_________________________________________________________________\n",
            " Layer (type)                Output Shape              Param #   \n",
            "=================================================================\n",
            " dense_29 (Dense)            (None, 1024)              25691136  \n",
            "                                                                 \n",
            " dropout_22 (Dropout)        (None, 1024)              0         \n",
            "                                                                 \n",
            " reshape_17 (Reshape)        (None, 4, 4, 64)          0         \n",
            "                                                                 \n",
            " conv2d_12 (Conv2D)          (None, 4, 4, 128)         73856     \n",
            "                                                                 \n",
            " max_pooling2d_9 (MaxPoolin  (None, 2, 2, 128)         0         \n",
            " g2D)                                                            \n",
            "                                                                 \n",
            " conv2d_13 (Conv2D)          (None, 2, 2, 256)         295168    \n",
            "                                                                 \n",
            " max_pooling2d_10 (MaxPooli  (None, 1, 1, 256)         0         \n",
            " ng2D)                                                           \n",
            "                                                                 \n",
            " conv2d_14 (Conv2D)          (None, 1, 1, 512)         1180160   \n",
            "                                                                 \n",
            " flatten_3 (Flatten)         (None, 512)               0         \n",
            "                                                                 \n",
            " reshape_18 (Reshape)        (None, 4, 128)            0         \n",
            "                                                                 \n",
            " lstm (LSTM)                 (None, 4, 128)            131584    \n",
            "                                                                 \n",
            " lstm_1 (LSTM)               (None, 64)                49408     \n",
            "                                                                 \n",
            " dense_30 (Dense)            (None, 128)               8320      \n",
            "                                                                 \n",
            " dropout_23 (Dropout)        (None, 128)               0         \n",
            "                                                                 \n",
            " dense_31 (Dense)            (None, 64)                8256      \n",
            "                                                                 \n",
            " dropout_24 (Dropout)        (None, 64)                0         \n",
            "                                                                 \n",
            " dense_32 (Dense)            (None, 1)                 65        \n",
            "                                                                 \n",
            "=================================================================\n",
            "Total params: 27437953 (104.67 MB)\n",
            "Trainable params: 27437953 (104.67 MB)\n",
            "Non-trainable params: 0 (0.00 Byte)\n",
            "_________________________________________________________________\n"
          ]
        }
      ]
    },
    {
      "cell_type": "code",
      "source": [
        "# training the model\n",
        "model.fit(X_train, y_train, epochs=20, validation_data=(X_test, y_test), batch_size=32, verbose=1)"
      ],
      "metadata": {
        "execution": {
          "iopub.status.busy": "2024-03-01T15:01:31.000891Z",
          "iopub.execute_input": "2024-03-01T15:01:31.001814Z",
          "iopub.status.idle": "2024-03-01T15:01:59.921474Z",
          "shell.execute_reply.started": "2024-03-01T15:01:31.001778Z",
          "shell.execute_reply": "2024-03-01T15:01:59.920647Z"
        },
        "trusted": true,
        "colab": {
          "base_uri": "https://localhost:8080/"
        },
        "id": "vxJigFZG7zeS",
        "outputId": "01e70d99-0252-4c3a-f952-c40e2f971cc8"
      },
      "execution_count": null,
      "outputs": [
        {
          "output_type": "stream",
          "name": "stdout",
          "text": [
            "Epoch 1/20\n",
            "94/94 [==============================] - 16s 33ms/step - loss: 0.6940 - accuracy: 0.4990 - val_loss: 0.6933 - val_accuracy: 0.5047\n",
            "Epoch 2/20\n",
            "94/94 [==============================] - 2s 17ms/step - loss: 0.4831 - accuracy: 0.7217 - val_loss: 0.0934 - val_accuracy: 0.9534\n",
            "Epoch 3/20\n",
            "94/94 [==============================] - 2s 17ms/step - loss: 0.0810 - accuracy: 0.9690 - val_loss: 0.0069 - val_accuracy: 0.9987\n",
            "Epoch 4/20\n",
            "94/94 [==============================] - 2s 17ms/step - loss: 0.0124 - accuracy: 0.9953 - val_loss: 0.0180 - val_accuracy: 0.9933\n",
            "Epoch 5/20\n",
            "94/94 [==============================] - 2s 17ms/step - loss: 0.0635 - accuracy: 0.9774 - val_loss: 3.4057e-04 - val_accuracy: 1.0000\n",
            "Epoch 6/20\n",
            "94/94 [==============================] - 2s 22ms/step - loss: 0.0085 - accuracy: 0.9977 - val_loss: 3.3919e-05 - val_accuracy: 1.0000\n",
            "Epoch 7/20\n",
            "94/94 [==============================] - 2s 24ms/step - loss: 0.0100 - accuracy: 0.9953 - val_loss: 0.0037 - val_accuracy: 1.0000\n",
            "Epoch 8/20\n",
            "94/94 [==============================] - 2s 17ms/step - loss: 0.0198 - accuracy: 0.9943 - val_loss: 5.0901e-07 - val_accuracy: 1.0000\n",
            "Epoch 9/20\n",
            "94/94 [==============================] - 2s 17ms/step - loss: 0.2609 - accuracy: 0.9264 - val_loss: 4.2123e-04 - val_accuracy: 1.0000\n",
            "Epoch 10/20\n",
            "94/94 [==============================] - 2s 17ms/step - loss: 0.0189 - accuracy: 0.9943 - val_loss: 0.0033 - val_accuracy: 0.9987\n",
            "Epoch 11/20\n",
            "94/94 [==============================] - 2s 18ms/step - loss: 0.0179 - accuracy: 0.9940 - val_loss: 0.0080 - val_accuracy: 1.0000\n",
            "Epoch 12/20\n",
            "94/94 [==============================] - 2s 17ms/step - loss: 0.0077 - accuracy: 0.9973 - val_loss: 8.9753e-05 - val_accuracy: 1.0000\n",
            "Epoch 13/20\n",
            "94/94 [==============================] - 2s 17ms/step - loss: 0.0011 - accuracy: 1.0000 - val_loss: 3.0621e-06 - val_accuracy: 1.0000\n",
            "Epoch 14/20\n",
            "94/94 [==============================] - 2s 20ms/step - loss: 1.1129e-04 - accuracy: 1.0000 - val_loss: 1.9188e-06 - val_accuracy: 1.0000\n",
            "Epoch 15/20\n",
            "94/94 [==============================] - 2s 25ms/step - loss: 7.9160e-05 - accuracy: 1.0000 - val_loss: 1.2241e-06 - val_accuracy: 1.0000\n",
            "Epoch 16/20\n",
            "94/94 [==============================] - 2s 18ms/step - loss: 0.0145 - accuracy: 0.9970 - val_loss: 8.7559e-06 - val_accuracy: 1.0000\n",
            "Epoch 17/20\n",
            "94/94 [==============================] - 2s 17ms/step - loss: 0.0172 - accuracy: 0.9950 - val_loss: 3.1927e-05 - val_accuracy: 1.0000\n",
            "Epoch 18/20\n",
            "94/94 [==============================] - 2s 18ms/step - loss: 0.0109 - accuracy: 0.9963 - val_loss: 2.7862e-05 - val_accuracy: 1.0000\n",
            "Epoch 19/20\n",
            "94/94 [==============================] - 2s 17ms/step - loss: 1.8890e-04 - accuracy: 1.0000 - val_loss: 5.8494e-06 - val_accuracy: 1.0000\n",
            "Epoch 20/20\n",
            "94/94 [==============================] - 2s 17ms/step - loss: 1.1697e-04 - accuracy: 1.0000 - val_loss: 2.3437e-06 - val_accuracy: 1.0000\n"
          ]
        },
        {
          "output_type": "execute_result",
          "data": {
            "text/plain": [
              "<keras.src.callbacks.History at 0x7e5efc06c6a0>"
            ]
          },
          "metadata": {},
          "execution_count": 39
        }
      ]
    },
    {
      "cell_type": "code",
      "source": [
        "from sklearn.metrics import confusion_matrix\n",
        "import seaborn as sns\n",
        "\n",
        "plt.figure(figsize=(15, 5))\n",
        "\n",
        "preds = model.predict(X_test)\n",
        "preds = (preds >= 0.5).astype(np.int32)\n",
        "cm = confusion_matrix(y_test, preds)\n",
        "df_cm = pd.DataFrame(cm, index=[0, 1], columns=['Notshoplift', 'Shoplift'])\n",
        "plt.subplot(121)\n",
        "plt.title(\"Confusion matrix\\n\")\n",
        "sns.heatmap(df_cm, annot=True, fmt=\"d\", cmap=\"YlGnBu\")\n",
        "plt.ylabel(\"Predicted\")\n",
        "plt.xlabel(\"Actual\")"
      ],
      "metadata": {
        "execution": {
          "iopub.status.busy": "2024-03-01T15:02:05.456854Z",
          "iopub.execute_input": "2024-03-01T15:02:05.457254Z",
          "iopub.status.idle": "2024-03-01T15:02:06.581040Z",
          "shell.execute_reply.started": "2024-03-01T15:02:05.457221Z",
          "shell.execute_reply": "2024-03-01T15:02:06.580240Z"
        },
        "trusted": true,
        "colab": {
          "base_uri": "https://localhost:8080/",
          "height": 544
        },
        "id": "Bq__9y6O7zeT",
        "outputId": "64477d7d-a72b-457f-ad6d-92445d045d0c"
      },
      "execution_count": null,
      "outputs": [
        {
          "output_type": "stream",
          "name": "stdout",
          "text": [
            "24/24 [==============================] - 1s 4ms/step\n"
          ]
        },
        {
          "output_type": "execute_result",
          "data": {
            "text/plain": [
              "Text(0.5, 25.722222222222214, 'Actual')"
            ]
          },
          "metadata": {},
          "execution_count": 40
        },
        {
          "output_type": "display_data",
          "data": {
            "text/plain": [
              "<Figure size 1500x500 with 2 Axes>"
            ],
            "image/png": "[encoded data removed]"
          },
          "metadata": {}
        }
      ]
    },
    {
      "cell_type": "code",
      "source": [
        "model.save('mod11.h5')"
      ],
      "metadata": {
        "execution": {
          "iopub.status.busy": "2024-03-01T15:45:44.080318Z",
          "iopub.execute_input": "2024-03-01T15:45:44.080681Z",
          "iopub.status.idle": "2024-03-01T15:45:44.551284Z",
          "shell.execute_reply.started": "2024-03-01T15:45:44.080652Z",
          "shell.execute_reply": "2024-03-01T15:45:44.550276Z"
        },
        "trusted": true,
        "colab": {
          "base_uri": "https://localhost:8080/"
        },
        "id": "YzQMofnd7zeT",
        "outputId": "2df2f16d-3b4d-45aa-c2de-1290e87b1924"
      },
      "execution_count": null,
      "outputs": [
        {
          "output_type": "stream",
          "name": "stderr",
          "text": [
            "/usr/local/lib/python3.10/dist-packages/keras/src/engine/training.py:3103: UserWarning: You are saving your model as an HDF5 file via `model.save()`. This file format is considered legacy. We recommend using instead the native Keras format, e.g. `model.save('my_model.keras')`.\n",
            "  saving_api.save_model(\n"
          ]
        }
      ]
    },
    {
      "cell_type": "code",
      "source": [
        "from keras.models import load_model\n",
        "\n",
        "def submit(folder_path):\n",
        "    model_prediction=[]\n",
        "    model=load_model('mod11.h5')\n",
        "    for filename in os.listdir(folder_path):\n",
        "        video_file = os.path.join(folder_path, filename)\n",
        "        cap = cv2.VideoCapture(video_file)\n",
        "        frame_rate = cap.get(cv2.CAP_PROP_FPS)\n",
        "\n",
        "        frames = []\n",
        "        while cap.isOpened():\n",
        "            ret, frame = cap.read()\n",
        "            if not ret:\n",
        "                break\n",
        "            frames.append(frame)\n",
        "\n",
        "        # Extract features using pre-trained model\n",
        "        prediction_images = []\n",
        "        for img in frames:\n",
        "            img = cv2.resize(img, (224, 224))\n",
        "            img = image.img_to_array(img)\n",
        "            img = img / 255\n",
        "            prediction_images.append(img)\n",
        "\n",
        "        # Convert all the frames for a test video into numpy array\n",
        "        prediction_images = np.array(prediction_images)\n",
        "\n",
        "        # Extract features using pre-trained model\n",
        "        prediction_images = base_model.predict(prediction_images)\n",
        "\n",
        "        # Convert features into one-dimensional array\n",
        "        prediction_images = prediction_images.reshape(prediction_images.shape[0], 7 * 7 * 512)\n",
        "\n",
        "        # Predict tags for each array\n",
        "        predictions = model.predict(prediction_images)\n",
        "\n",
        "        # Append the mode of predictions in predict list to assign the tag to the video\n",
        "        # Assuming 0 corresponds to \"not shoplift\" and 1 corresponds to \"shoplift\"\n",
        "        # Use majority voting to determine the predicted class label\n",
        "        predicted_class = \"1\" if np.mean(predictions) > 0.5 else \"0\"\n",
        "        model_prediction.append(predicted_class)\n",
        "\n",
        "    return model_prediction\n",
        "\n",
        "folder='my_folder'\n",
        "predictions = submit(folder)\n",
        "print(predictions)"
      ],
      "metadata": {
        "colab": {
          "base_uri": "https://localhost:8080/"
        },
        "id": "r3lYslEoA_Be",
        "outputId": "ff869444-8983-442d-996d-3d214c894610"
      },
      "execution_count": null,
      "outputs": [
        {
          "output_type": "stream",
          "name": "stdout",
          "text": [
            "11/11 [==============================] - 3s 323ms/step\n",
            "11/11 [==============================] - 1s 21ms/step\n",
            "10/10 [==============================] - 4s 445ms/step\n",
            "10/10 [==============================] - 0s 18ms/step\n",
            "9/9 [==============================] - 6s 788ms/step\n",
            "9/9 [==============================] - 0s 33ms/step\n",
            "['0', '1', '1']\n"
          ]
        }
      ]
    },
    {
      "cell_type": "code",
      "source": [
        "import shutil\n",
        "\n",
        "# Define the name of the file and the name of the folder\n",
        "file_name = \"DCSASS Dataset/Shoplifting/Shoplifting001_x264.mp4/Shoplifting001_x264_14.mp4\"\n",
        "folder_name = \"Shoplifting1\"\n",
        "\n",
        "# Specify the source path of the file\n",
        "source_path = \"/content/\" + file_name\n",
        "\n",
        "# Specify the destination path of the folder\n",
        "destination_path = \"/content/\" + folder_name + \"/\" + file_name\n",
        "\n",
        "# Copy the file to the specified folder\n",
        "shutil.move(source_path, destination_path)"
      ],
      "metadata": {
        "colab": {
          "base_uri": "https://localhost:8080/",
          "height": 478
        },
        "id": "2Zgnmo0HBgNn",
        "outputId": "cd5b745d-637f-4ed0-bc5a-32ed4cece0e8"
      },
      "execution_count": null,
      "outputs": [
        {
          "output_type": "error",
          "ename": "FileNotFoundError",
          "evalue": "[Errno 2] No such file or directory: '/content/Shoplifting1/DCSASS Dataset/Shoplifting/Shoplifting001_x264.mp4/Shoplifting001_x264_14.mp4'",
          "traceback": [
            "\u001b[0;31m---------------------------------------------------------------------------\u001b[0m",
            "\u001b[0;31mFileNotFoundError\u001b[0m                         Traceback (most recent call last)",
            "\u001b[0;32m/usr/lib/python3.10/shutil.py\u001b[0m in \u001b[0;36mmove\u001b[0;34m(src, dst, copy_function)\u001b[0m\n\u001b[1;32m    815\u001b[0m     \u001b[0;32mtry\u001b[0m\u001b[0;34m:\u001b[0m\u001b[0;34m\u001b[0m\u001b[0;34m\u001b[0m\u001b[0m\n\u001b[0;32m--> 816\u001b[0;31m         \u001b[0mos\u001b[0m\u001b[0;34m.\u001b[0m\u001b[0mrename\u001b[0m\u001b[0;34m(\u001b[0m\u001b[0msrc\u001b[0m\u001b[0;34m,\u001b[0m \u001b[0mreal_dst\u001b[0m\u001b[0;34m)\u001b[0m\u001b[0;34m\u001b[0m\u001b[0;34m\u001b[0m\u001b[0m\n\u001b[0m\u001b[1;32m    817\u001b[0m     \u001b[0;32mexcept\u001b[0m \u001b[0mOSError\u001b[0m\u001b[0;34m:\u001b[0m\u001b[0;34m\u001b[0m\u001b[0;34m\u001b[0m\u001b[0m\n",
            "\u001b[0;31mFileNotFoundError\u001b[0m: [Errno 2] No such file or directory: '/content/DCSASS Dataset/Shoplifting/Shoplifting001_x264.mp4/Shoplifting001_x264_14.mp4' -> '/content/Shoplifting1/DCSASS Dataset/Shoplifting/Shoplifting001_x264.mp4/Shoplifting001_x264_14.mp4'",
            "\nDuring handling of the above exception, another exception occurred:\n",
            "\u001b[0;31mFileNotFoundError\u001b[0m                         Traceback (most recent call last)",
            "\u001b[0;32m<ipython-input-21-1f130e6b8b8d>\u001b[0m in \u001b[0;36m<cell line: 14>\u001b[0;34m()\u001b[0m\n\u001b[1;32m     12\u001b[0m \u001b[0;34m\u001b[0m\u001b[0m\n\u001b[1;32m     13\u001b[0m \u001b[0;31m# Copy the file to the specified folder\u001b[0m\u001b[0;34m\u001b[0m\u001b[0;34m\u001b[0m\u001b[0m\n\u001b[0;32m---> 14\u001b[0;31m \u001b[0mshutil\u001b[0m\u001b[0;34m.\u001b[0m\u001b[0mmove\u001b[0m\u001b[0;34m(\u001b[0m\u001b[0msource_path\u001b[0m\u001b[0;34m,\u001b[0m \u001b[0mdestination_path\u001b[0m\u001b[0;34m)\u001b[0m\u001b[0;34m\u001b[0m\u001b[0;34m\u001b[0m\u001b[0m\n\u001b[0m",
            "\u001b[0;32m/usr/lib/python3.10/shutil.py\u001b[0m in \u001b[0;36mmove\u001b[0;34m(src, dst, copy_function)\u001b[0m\n\u001b[1;32m    834\u001b[0m             \u001b[0mrmtree\u001b[0m\u001b[0;34m(\u001b[0m\u001b[0msrc\u001b[0m\u001b[0;34m)\u001b[0m\u001b[0;34m\u001b[0m\u001b[0;34m\u001b[0m\u001b[0m\n\u001b[1;32m    835\u001b[0m         \u001b[0;32melse\u001b[0m\u001b[0;34m:\u001b[0m\u001b[0;34m\u001b[0m\u001b[0;34m\u001b[0m\u001b[0m\n\u001b[0;32m--> 836\u001b[0;31m             \u001b[0mcopy_function\u001b[0m\u001b[0;34m(\u001b[0m\u001b[0msrc\u001b[0m\u001b[0;34m,\u001b[0m \u001b[0mreal_dst\u001b[0m\u001b[0;34m)\u001b[0m\u001b[0;34m\u001b[0m\u001b[0;34m\u001b[0m\u001b[0m\n\u001b[0m\u001b[1;32m    837\u001b[0m             \u001b[0mos\u001b[0m\u001b[0;34m.\u001b[0m\u001b[0munlink\u001b[0m\u001b[0;34m(\u001b[0m\u001b[0msrc\u001b[0m\u001b[0;34m)\u001b[0m\u001b[0;34m\u001b[0m\u001b[0;34m\u001b[0m\u001b[0m\n\u001b[1;32m    838\u001b[0m     \u001b[0;32mreturn\u001b[0m \u001b[0mreal_dst\u001b[0m\u001b[0;34m\u001b[0m\u001b[0;34m\u001b[0m\u001b[0m\n",
            "\u001b[0;32m/usr/lib/python3.10/shutil.py\u001b[0m in \u001b[0;36mcopy2\u001b[0;34m(src, dst, follow_symlinks)\u001b[0m\n\u001b[1;32m    432\u001b[0m     \u001b[0;32mif\u001b[0m \u001b[0mos\u001b[0m\u001b[0;34m.\u001b[0m\u001b[0mpath\u001b[0m\u001b[0;34m.\u001b[0m\u001b[0misdir\u001b[0m\u001b[0;34m(\u001b[0m\u001b[0mdst\u001b[0m\u001b[0;34m)\u001b[0m\u001b[0;34m:\u001b[0m\u001b[0;34m\u001b[0m\u001b[0;34m\u001b[0m\u001b[0m\n\u001b[1;32m    433\u001b[0m         \u001b[0mdst\u001b[0m \u001b[0;34m=\u001b[0m \u001b[0mos\u001b[0m\u001b[0;34m.\u001b[0m\u001b[0mpath\u001b[0m\u001b[0;34m.\u001b[0m\u001b[0mjoin\u001b[0m\u001b[0;34m(\u001b[0m\u001b[0mdst\u001b[0m\u001b[0;34m,\u001b[0m \u001b[0mos\u001b[0m\u001b[0;34m.\u001b[0m\u001b[0mpath\u001b[0m\u001b[0;34m.\u001b[0m\u001b[0mbasename\u001b[0m\u001b[0;34m(\u001b[0m\u001b[0msrc\u001b[0m\u001b[0;34m)\u001b[0m\u001b[0;34m)\u001b[0m\u001b[0;34m\u001b[0m\u001b[0;34m\u001b[0m\u001b[0m\n\u001b[0;32m--> 434\u001b[0;31m     \u001b[0mcopyfile\u001b[0m\u001b[0;34m(\u001b[0m\u001b[0msrc\u001b[0m\u001b[0;34m,\u001b[0m \u001b[0mdst\u001b[0m\u001b[0;34m,\u001b[0m \u001b[0mfollow_symlinks\u001b[0m\u001b[0;34m=\u001b[0m\u001b[0mfollow_symlinks\u001b[0m\u001b[0;34m)\u001b[0m\u001b[0;34m\u001b[0m\u001b[0;34m\u001b[0m\u001b[0m\n\u001b[0m\u001b[1;32m    435\u001b[0m     \u001b[0mcopystat\u001b[0m\u001b[0;34m(\u001b[0m\u001b[0msrc\u001b[0m\u001b[0;34m,\u001b[0m \u001b[0mdst\u001b[0m\u001b[0;34m,\u001b[0m \u001b[0mfollow_symlinks\u001b[0m\u001b[0;34m=\u001b[0m\u001b[0mfollow_symlinks\u001b[0m\u001b[0;34m)\u001b[0m\u001b[0;34m\u001b[0m\u001b[0;34m\u001b[0m\u001b[0m\n\u001b[1;32m    436\u001b[0m     \u001b[0;32mreturn\u001b[0m \u001b[0mdst\u001b[0m\u001b[0;34m\u001b[0m\u001b[0;34m\u001b[0m\u001b[0m\n",
            "\u001b[0;32m/usr/lib/python3.10/shutil.py\u001b[0m in \u001b[0;36mcopyfile\u001b[0;34m(src, dst, follow_symlinks)\u001b[0m\n\u001b[1;32m    254\u001b[0m         \u001b[0;32mwith\u001b[0m \u001b[0mopen\u001b[0m\u001b[0;34m(\u001b[0m\u001b[0msrc\u001b[0m\u001b[0;34m,\u001b[0m \u001b[0;34m'rb'\u001b[0m\u001b[0;34m)\u001b[0m \u001b[0;32mas\u001b[0m \u001b[0mfsrc\u001b[0m\u001b[0;34m:\u001b[0m\u001b[0;34m\u001b[0m\u001b[0;34m\u001b[0m\u001b[0m\n\u001b[1;32m    255\u001b[0m             \u001b[0;32mtry\u001b[0m\u001b[0;34m:\u001b[0m\u001b[0;34m\u001b[0m\u001b[0;34m\u001b[0m\u001b[0m\n\u001b[0;32m--> 256\u001b[0;31m                 \u001b[0;32mwith\u001b[0m \u001b[0mopen\u001b[0m\u001b[0;34m(\u001b[0m\u001b[0mdst\u001b[0m\u001b[0;34m,\u001b[0m \u001b[0;34m'wb'\u001b[0m\u001b[0;34m)\u001b[0m \u001b[0;32mas\u001b[0m \u001b[0mfdst\u001b[0m\u001b[0;34m:\u001b[0m\u001b[0;34m\u001b[0m\u001b[0;34m\u001b[0m\u001b[0m\n\u001b[0m\u001b[1;32m    257\u001b[0m                     \u001b[0;31m# macOS\u001b[0m\u001b[0;34m\u001b[0m\u001b[0;34m\u001b[0m\u001b[0m\n\u001b[1;32m    258\u001b[0m                     \u001b[0;32mif\u001b[0m \u001b[0m_HAS_FCOPYFILE\u001b[0m\u001b[0;34m:\u001b[0m\u001b[0;34m\u001b[0m\u001b[0;34m\u001b[0m\u001b[0m\n",
            "\u001b[0;31mFileNotFoundError\u001b[0m: [Errno 2] No such file or directory: '/content/Shoplifting1/DCSASS Dataset/Shoplifting/Shoplifting001_x264.mp4/Shoplifting001_x264_14.mp4'"
          ]
        }
      ]
    }
  ]
}